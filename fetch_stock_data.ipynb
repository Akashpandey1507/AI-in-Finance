{
  "nbformat": 4,
  "nbformat_minor": 0,
  "metadata": {
    "colab": {
      "provenance": [],
      "authorship_tag": "ABX9TyOAeLOVQbKN6zDDHcNFzoZ2",
      "include_colab_link": true
    },
    "kernelspec": {
      "name": "python3",
      "display_name": "Python 3"
    },
    "language_info": {
      "name": "python"
    }
  },
  "cells": [
    {
      "cell_type": "markdown",
      "metadata": {
        "id": "view-in-github",
        "colab_type": "text"
      },
      "source": [
        "<a href=\"https://colab.research.google.com/github/Akashpandey1507/AI-in-Finance/blob/main/fetch_stock_data.ipynb\" target=\"_parent\"><img src=\"https://colab.research.google.com/assets/colab-badge.svg\" alt=\"Open In Colab\"/></a>"
      ]
    },
    {
      "cell_type": "markdown",
      "source": [
        "# Importing the important Libraries"
      ],
      "metadata": {
        "id": "tX8RkrwnJBcP"
      }
    },
    {
      "cell_type": "code",
      "execution_count": 1,
      "metadata": {
        "id": "rrOLCzPNI3hN"
      },
      "outputs": [],
      "source": [
        "import yfinance as yf\n",
        "import pandas as pd\n",
        "import matplotlib.pyplot as plt\n",
        "from datetime import date, timedelta\n",
        "import numpy as np"
      ]
    },
    {
      "cell_type": "markdown",
      "source": [
        "# Input Keys"
      ],
      "metadata": {
        "id": "ZALHgzrvJnWj"
      }
    },
    {
      "cell_type": "code",
      "source": [
        "stock_ticker = \" \""
      ],
      "metadata": {
        "id": "DSsvmaZ0Jmhb"
      },
      "execution_count": null,
      "outputs": []
    },
    {
      "cell_type": "code",
      "source": [
        "data = yf.download(\"ZOMATO.NS\", start=\"2015-01-01\", end=date.today(), interval=\"1d\")"
      ],
      "metadata": {
        "id": "1QBFL1_xJA4w"
      },
      "execution_count": null,
      "outputs": []
    }
  ]
}